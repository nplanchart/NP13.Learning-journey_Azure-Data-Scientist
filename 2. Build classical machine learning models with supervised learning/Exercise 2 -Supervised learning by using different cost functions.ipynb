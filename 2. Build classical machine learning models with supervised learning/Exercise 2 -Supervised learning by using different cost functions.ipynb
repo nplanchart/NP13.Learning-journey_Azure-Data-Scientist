{
  "cells": [
    {
      "cell_type": "markdown",
      "source": [
        "# Exercise: Supervised learning by using different cost functions\n",
        "\n",
        "In this exercise, we'll take a deeper look at how cost functions can change:\n",
        "\n",
        "* How well models appear to have fit data\n",
        "* The kinds of relationships a model represents\n",
        "\n",
        "## Loading the data\n",
        "\n",
        "Let's start by loading the data. To make this exercise simpler, we'll use only a few datapoints this time."
      ],
      "metadata": {},
      "id": "e2d889f8-fd99-4535-a212-37fcb285c9ad"
    },
    {
      "cell_type": "code",
      "source": [
        "import pandas\n",
        "!wget https://raw.githubusercontent.com/MicrosoftDocs/mslearn-introduction-to-machine-learning/main/microsoft_custom_linear_regressor.py\n",
        "!wget https://raw.githubusercontent.com/MicrosoftDocs/mslearn-introduction-to-machine-learning/main/Data/seattleWeather_1948-2017.csv\n",
        "from datetime import datetime\n",
        "\n",
        "# Load a file that contains our weather data\n",
        "dataset = pandas.read_csv('seattleWeather_1948-2017.csv', parse_dates=['date'])\n",
        "\n",
        "# Convert the dates into numbers so we can use them in our models\n",
        "# We make a year column that can contain fractions. For example,\n",
        "# 1948.5 is halfway through the year 1948\n",
        "dataset[\"year\"] = [(d.year + d.timetuple().tm_yday / 365.25) for d in dataset.date]\n",
        "\n",
        "\n",
        "# For the sake of this exercise, let's look at February 1 for the following years:\n",
        "desired_dates = [\n",
        "    datetime(1950,2,1),\n",
        "    datetime(1960,2,1),\n",
        "    datetime(1970,2,1),\n",
        "    datetime(1980,2,1),\n",
        "    datetime(1990,2,1),\n",
        "    datetime(2000,2,1),\n",
        "    datetime(2010,2,1),\n",
        "    datetime(2017,2,1),\n",
        "]\n",
        "\n",
        "dataset = dataset[dataset.date.isin(desired_dates)].copy()\n",
        "\n",
        "# Print the dataset\n",
        "dataset\n"
      ],
      "outputs": [],
      "execution_count": null,
      "metadata": {},
      "id": "79ecbb03-f33f-455b-9f0f-9c2b5f4fd2b2"
    },
    {
      "cell_type": "markdown",
      "source": [
        "## Comparing two cost functions\n",
        "\n",
        "Let's compare two common cost functions: the _sum of squared differences_ (SSD) and the _sum of absolute differences_ (SAD). They both calculate the difference between each predicted value and the expected value. The distinction is simply: \n",
        "\n",
        "* SSD squares that difference and sums the result.\n",
        "* SAD converts differences into absolute differences and then sums them.\n",
        "\n",
        "To see these cost functions in action, we need to first implement them:"
      ],
      "metadata": {},
      "id": "332c47a4-3a93-4d9d-bae6-cb3643325625"
    },
    {
      "cell_type": "code",
      "source": [
        "import numpy\n",
        "\n",
        "def sum_of_square_differences(estimate, actual):\n",
        "    # Note that with NumPy, to square each value we use **\n",
        "    return numpy.sum((estimate - actual)**2)\n",
        "\n",
        "def sum_of_absolute_differences(estimate, actual):\n",
        "    return numpy.sum(numpy.abs(estimate - actual))"
      ],
      "outputs": [],
      "execution_count": null,
      "metadata": {},
      "id": "6b6afd0b-9f03-4874-b1a7-ee5a57604d4c"
    },
    {
      "cell_type": "markdown",
      "source": [
        "They're very similar. How do they behave? Let's test with some fake model estimates.\n",
        "\n",
        "Let's say that the correct answers are `1` and `3`, but the model estimates `2` and `2`:"
      ],
      "metadata": {},
      "id": "40bd78c8-886c-4462-8c06-6c01aff2759e"
    },
    {
      "cell_type": "code",
      "source": [
        "actual_label = numpy.array([1, 3])\n",
        "model_estimate = numpy.array([2, 2])\n",
        "\n",
        "print(\"SSD:\", sum_of_square_differences(model_estimate, actual_label))\n",
        "print(\"SAD:\", sum_of_absolute_differences(model_estimate, actual_label))"
      ],
      "outputs": [],
      "execution_count": null,
      "metadata": {},
      "id": "f812d158-ea1a-4ccc-8b6c-29690e894ca2"
    },
    {
      "cell_type": "markdown",
      "source": [
        "We have an error of `1` for each estimate, and both methods have returned the same error. \n",
        "\n",
        "What happens if we distribute these errors differently? Let's pretend that we estimated the first value perfectly, but were off by `2` for the second value: "
      ],
      "metadata": {},
      "id": "054ff2d9-b3fc-4126-a748-39d9af71027b"
    },
    {
      "cell_type": "code",
      "source": [
        "actual_label = numpy.array([1, 3])\n",
        "model_estimate = numpy.array([1, 1])\n",
        "\n",
        "print(\"SSD:\", sum_of_square_differences(model_estimate, actual_label))\n",
        "print(\"SAD:\", sum_of_absolute_differences(model_estimate, actual_label))"
      ],
      "outputs": [],
      "execution_count": null,
      "metadata": {},
      "id": "0b84f8eb-c364-442c-b755-32863166ba82"
    },
    {
      "cell_type": "markdown",
      "source": [
        "SAD has calculated the same cost as before, because the average error is still the same (`1 + 1 = 0 + 2`). According to SAD, the first and second set of estimates were equally good. \n",
        "\n",
        "By contrast, SSD has given a higher (worse) cost for the second set of estimates ( $1^2 + 1^2 < 0^2 + 2^2 $ ). When we use SSD, we encourage models to be both accurate and consistent in their accuracy.\n",
        "\n",
        "\n",
        "## Differences in action\n",
        "\n",
        "Let's compare how our two cost functions affect model fitting.\n",
        "\n",
        "First, fit a model by using the SSD cost function:"
      ],
      "metadata": {},
      "id": "87db59a0-9286-4dd3-9a2e-3cede450e244"
    },
    {
      "cell_type": "code",
      "source": [
        "from microsoft_custom_linear_regressor import MicrosoftCustomLinearRegressor\n",
        "import matplotlib.pyplot as plt\n",
        "\n",
        "# Create and fit the model\n",
        "# We use a custom object that we've hidden from this notebook, because\n",
        "# you don't need to understand its details. This fits a linear model\n",
        "# by using a provided cost function\n",
        "\n",
        "# Fit a model by using sum of square differences\n",
        "model = MicrosoftCustomLinearRegressor().fit(X = dataset.year, \n",
        "                                             y = dataset.min_temperature, \n",
        "                                             cost_function = sum_of_square_differences)\n",
        "\n",
        "# Graph the model\n",
        "plt.scatter(dataset[\"year\"], dataset[\"min_temperature\"])\n",
        "plt.plot(dataset[\"year\"], model.predict(dataset[\"year\"]), 'r', label='Fitted line')\n",
        "\n",
        "                                                 \n",
        "# add labels and legend\n",
        "plt.xlabel(\"year\")\n",
        "plt.ylabel(\"min_temperature\")\n",
        "plt.legend()"
      ],
      "outputs": [],
      "execution_count": null,
      "metadata": {},
      "id": "0c7faa30-fddd-4d55-bf11-da8c9107bc5e"
    },
    {
      "attachments": {},
      "cell_type": "markdown",
      "source": [
        "Our SSD method normally does well, but here it did a poor job. The line is a far distance from the values for many years. Why? Notice that the datapoint at the lower left doesn't seem to follow the trend of the other datapoints. 1950 was a very cold winter in Seattle, and this datapoint is strongly influencing our final model (the red line). What happens if we change the cost function?\n",
        "\n",
        "### Sum of absolute differences\n",
        "\n",
        "Let's repeat what we've just done, but using SAD."
      ],
      "metadata": {},
      "id": "bee2f364-39e5-4408-ac4c-86fea6444c62"
    },
    {
      "cell_type": "code",
      "source": [
        "# Fit a model with SAD\n",
        "# Fit a model by using sum of absolute differences\n",
        "model = MicrosoftCustomLinearRegressor().fit(X = dataset.year, \n",
        "                                             y = dataset.min_temperature, \n",
        "                                             cost_function = sum_of_absolute_differences)\n",
        "\n",
        "# Graph the model\n",
        "plt.scatter(dataset[\"year\"], dataset[\"min_temperature\"])\n",
        "plt.plot(dataset[\"year\"], model.predict(dataset[\"year\"]), 'r', label='Fitted line')\n",
        "\n",
        "                                                 \n",
        "# add labels and legend\n",
        "plt.xlabel(\"year\")\n",
        "plt.ylabel(\"min_temperature\")\n",
        "plt.legend()\n"
      ],
      "outputs": [],
      "execution_count": null,
      "metadata": {},
      "id": "dd52fb49-d2c5-48a0-be48-c4ffebbbd937"
    },
    {
      "cell_type": "markdown",
      "source": [
        "It's clear that this line passes through the majority of points much better than before, at the expense of almost ignoring the measurement taken in 1950. \n",
        "\n",
        "In our farming scenario, we're interested in how average temperatures are changing over time. We don't have much interest in 1950 specifically, so for us, this is a better result. In other situations, of course, we might consider this result worse.\n",
        "\n",
        "\n",
        "## Summary\n",
        "\n",
        "In this exercise, you learned about how changing the cost function that's used during fitting can result in different final results. \n",
        "\n",
        "You also learned how this behavior happens because these cost functions describe the \"best\" way to fit a model; although from a data analyst's point of view, there can be drawbacks no matter which cost function is chosen."
      ],
      "metadata": {},
      "id": "203ebde5-2228-4dae-8b07-27176e7de113"
    }
  ],
  "metadata": {
    "kernel_info": {
      "name": "conda-env-azureml_py38-py"
    },
    "kernelspec": {
      "display_name": "azureml_py38",
      "language": "python",
      "name": "conda-env-azureml_py38-py"
    },
    "language_info": {
      "codemirror_mode": {
        "name": "ipython",
        "version": 3
      },
      "file_extension": ".py",
      "mimetype": "text/x-python",
      "name": "python",
      "nbconvert_exporter": "python",
      "pygments_lexer": "ipython3",
      "version": "3.7.9"
    },
    "nteract": {
      "version": "nteract-front-end@1.0.0"
    }
  },
  "nbformat": 4,
  "nbformat_minor": 5
}